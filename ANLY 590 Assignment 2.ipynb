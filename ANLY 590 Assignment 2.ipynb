{
 "cells": [
  {
   "cell_type": "code",
   "execution_count": 1,
   "metadata": {},
   "outputs": [
    {
     "name": "stderr",
     "output_type": "stream",
     "text": [
      "Using TensorFlow backend.\n"
     ]
    }
   ],
   "source": [
    "from keras.layers import Input, Dense, Conv2D,MaxPooling2D,UpSampling2D,Dropout,Flatten\n",
    "from keras.models import Model, Sequential\n",
    "from keras.datasets import mnist\n",
    "import numpy as np\n",
    "from keras.utils import np_utils\n",
    "import matplotlib.pyplot as plt\n",
    "%matplotlib inline\n",
    "import tensorflow as tf\n",
    "from keras import backend as K\n",
    "\n",
    "def extract_layer_output(model, layer_num):\n",
    "    return K.function([model.input] + [K.learning_phase()], [model.layers[layer_num].output])"
   ]
  },
  {
   "cell_type": "markdown",
   "metadata": {
    "collapsed": true
   },
   "source": [
    "##Problem 1 Autoencoder"
   ]
  },
  {
   "cell_type": "code",
   "execution_count": 2,
   "metadata": {
    "scrolled": true
   },
   "outputs": [
    {
     "name": "stdout",
     "output_type": "stream",
     "text": [
      "Downloading data from https://storage.googleapis.com/tensorflow/tf-keras-datasets/train-labels-idx1-ubyte.gz\n",
      "32768/29515 [=================================] - 0s 1us/step\n",
      "Downloading data from https://storage.googleapis.com/tensorflow/tf-keras-datasets/train-images-idx3-ubyte.gz\n",
      "26427392/26421880 [==============================] - 33s 1us/step\n",
      "Downloading data from https://storage.googleapis.com/tensorflow/tf-keras-datasets/t10k-labels-idx1-ubyte.gz\n",
      "8192/5148 [===============================================] - 0s 1us/step\n",
      "Downloading data from https://storage.googleapis.com/tensorflow/tf-keras-datasets/t10k-images-idx3-ubyte.gz\n",
      "4423680/4422102 [==============================] - 6s 1us/step\n",
      "(60000, 28, 28, 1)\n"
     ]
    }
   ],
   "source": [
    "# load fashion mnist data\n",
    "(X_train,y_train), (X_test,y_test) = tf.keras.datasets.fashion_mnist.load_data()\n",
    "labels =['t-shirt', 'trouser', 'pullover', 'dress', 'coat','snadal', 'shirt', 'sneaker','bag','ankle boot']\n",
    "X_train = X_train.reshape(X_train.shape[0], 28, 28,1)\n",
    "X_test = X_test.reshape(X_test.shape[0], 28, 28,1)\n",
    "print(X_train.shape)"
   ]
  },
  {
   "cell_type": "code",
   "execution_count": 3,
   "metadata": {},
   "outputs": [
    {
     "data": {
      "image/png": "[encoded data removed]",
      "text/plain": [
       "<matplotlib.figure.Figure at 0x2260d20a278>"
      ]
     },
     "metadata": {},
     "output_type": "display_data"
    }
   ],
   "source": [
    "plt.imshow(X_train[0,:,:].reshape(28,28))\n",
    "plt.title(labels[y_train[0]])\n",
    "plt.show()"
   ]
  },
  {
   "cell_type": "code",
   "execution_count": 4,
   "metadata": {},
   "outputs": [
    {
     "name": "stdout",
     "output_type": "stream",
     "text": [
      "_________________________________________________________________\n",
      "Layer (type)                 Output Shape              Param #   \n",
      "=================================================================\n",
      "conv2d_1 (Conv2D)            (None, 28, 28, 32)        320       \n",
      "_________________________________________________________________\n",
      "max_pooling2d_1 (MaxPooling2 (None, 14, 14, 32)        0         \n",
      "_________________________________________________________________\n",
      "conv2d_2 (Conv2D)            (None, 14, 14, 32)        9248      \n",
      "_________________________________________________________________\n",
      "max_pooling2d_2 (MaxPooling2 (None, 7, 7, 32)          0         \n",
      "_________________________________________________________________\n",
      "conv2d_3 (Conv2D)            (None, 7, 7, 32)          9248      \n",
      "_________________________________________________________________\n",
      "max_pooling2d_3 (MaxPooling2 (None, 4, 4, 32)          0         \n",
      "_________________________________________________________________\n",
      "conv2d_4 (Conv2D)            (None, 4, 4, 8)           2312      \n",
      "_________________________________________________________________\n",
      "up_sampling2d_1 (UpSampling2 (None, 8, 8, 8)           0         \n",
      "_________________________________________________________________\n",
      "conv2d_5 (Conv2D)            (None, 8, 8, 8)           584       \n",
      "_________________________________________________________________\n",
      "up_sampling2d_2 (UpSampling2 (None, 16, 16, 8)         0         \n",
      "_________________________________________________________________\n",
      "conv2d_6 (Conv2D)            (None, 14, 14, 16)        1168      \n",
      "_________________________________________________________________\n",
      "up_sampling2d_3 (UpSampling2 (None, 28, 28, 16)        0         \n",
      "_________________________________________________________________\n",
      "conv2d_7 (Conv2D)            (None, 28, 28, 1)         145       \n",
      "=================================================================\n",
      "Total params: 23,025\n",
      "Trainable params: 23,025\n",
      "Non-trainable params: 0\n",
      "_________________________________________________________________\n"
     ]
    }
   ],
   "source": [
    "#construct encoder\n",
    "c_auto  = Sequential()\n",
    "# encoding\n",
    "c_auto.add(Conv2D(filters = 32,kernel_size= (3,3), activation= 'relu', padding='same',strides=(1,1), input_shape = (28,28,1)))\n",
    "c_auto.add(MaxPooling2D((2,2), padding ='same'))\n",
    "c_auto.add(Conv2D(filters = 32,kernel_size= (3,3), activation= 'relu', padding='same',strides=(1,1)))\n",
    "c_auto.add(MaxPooling2D((2,2), padding = 'same'))\n",
    "c_auto.add(Conv2D(filters = 32,kernel_size= (3,3), activation= 'relu', padding='same',strides=(1,1)))\n",
    "c_auto.add(MaxPooling2D((2,2), padding = 'same'))\n",
    "\n",
    "# decoding\n",
    "c_auto.add(Conv2D(filters =8,kernel_size= (3,3), activation= 'relu', padding='same',strides=(1,1)))\n",
    "c_auto.add(UpSampling2D((2,2)))\n",
    "c_auto.add(Conv2D(filters = 8,kernel_size= (3,3), activation= 'relu', padding='same',strides=(1,1)))\n",
    "c_auto.add(UpSampling2D((2,2)))\n",
    "c_auto.add(Conv2D(filters = 16,kernel_size= (3,3), activation= 'relu',strides=(1,1)))\n",
    "c_auto.add(UpSampling2D((2,2)))\n",
    "c_auto.add(Conv2D(filters = 1,kernel_size= (3,3), activation= 'sigmoid', padding='same'))\n",
    "\n",
    "c_auto.compile(optimizer = 'adadelta', loss ='binary_crossentropy')\n",
    "c_auto.summary()"
   ]
  },
  {
   "cell_type": "code",
   "execution_count": 5,
   "metadata": {},
   "outputs": [
    {
     "name": "stdout",
     "output_type": "stream",
     "text": [
      "Train on 42000 samples, validate on 18000 samples\n",
      "Epoch 1/3\n",
      "42000/42000 [==============================] - 135s 3ms/step - loss: -1138.4661 - val_loss: -1153.7185\n",
      "Epoch 2/3\n",
      "42000/42000 [==============================] - 135s 3ms/step - loss: -1147.9049 - val_loss: -1155.7969\n",
      "Epoch 3/3\n",
      "42000/42000 [==============================] - 136s 3ms/step - loss: -1149.4998 - val_loss: -1156.6548\n"
     ]
    },
    {
     "data": {
      "text/plain": [
       "<keras.callbacks.History at 0x22615889b00>"
      ]
     },
     "execution_count": 5,
     "metadata": {},
     "output_type": "execute_result"
    }
   ],
   "source": [
    "# model training\n",
    "c_auto.fit(X_train, X_train, epochs = 3, batch_size = 256, validation_split=0.3)"
   ]
  },
  {
   "cell_type": "code",
   "execution_count": 6,
   "metadata": {
    "collapsed": true
   },
   "outputs": [],
   "source": [
    "f=extract_layer_output(c_auto, 5)\n",
    "decodedpic= c_auto.predict(X_test[:10,:])\n",
    "encodedpic =f([X_test[:10,:]])[0]"
   ]
  },
  {
   "cell_type": "code",
   "execution_count": 7,
   "metadata": {},
   "outputs": [
    {
     "data": {
      "image/png": "[encoded data removed]",
      "text/plain": [
       "<matplotlib.figure.Figure at 0x22615e633c8>"
      ]
     },
     "metadata": {},
     "output_type": "display_data"
    }
   ],
   "source": [
    "plt.figure(figsize=(50,20))\n",
    "for i in range(10):\n",
    "    \n",
    "    #original\n",
    "    ax = plt.subplot(3,10,i+1)\n",
    "    plt.imshow(X_test[i,:].reshape(28,28))\n",
    "    ax.get_xaxis().set_visible(False)\n",
    "    ax.get_yaxis().set_visible(False)\n",
    "\n",
    "    #encoded\n",
    "    ax = plt.subplot(3,10,i+10+1)\n",
    "    plt.imshow(encodedpic[i].reshape(4, 4 * 32).T)\n",
    "    ax.get_xaxis().set_visible(False)\n",
    "    ax.get_yaxis().set_visible(False)\n",
    "    \n",
    "    #decoded\n",
    "    ax = plt.subplot(3,10,i+20+1)\n",
    "    plt.imshow(decodedpic[i].reshape(28, 28))\n",
    "    ax.get_xaxis().set_visible(False)\n",
    "    ax.get_yaxis().set_visible(False)\n",
    "plt.show()"
   ]
  },
  {
   "cell_type": "markdown",
   "metadata": {},
   "source": [
    "###Problem 2 Image Classification\n",
    "###2.1 deep CNN"
   ]
  },
  {
   "cell_type": "code",
   "execution_count": 8,
   "metadata": {},
   "outputs": [
    {
     "name": "stdout",
     "output_type": "stream",
     "text": [
      "_________________________________________________________________\n",
      "Layer (type)                 Output Shape              Param #   \n",
      "=================================================================\n",
      "conv2d_8 (Conv2D)            (None, 28, 28, 64)        1088      \n",
      "_________________________________________________________________\n",
      "max_pooling2d_4 (MaxPooling2 (None, 14, 14, 64)        0         \n",
      "_________________________________________________________________\n",
      "dropout_1 (Dropout)          (None, 14, 14, 64)        0         \n",
      "_________________________________________________________________\n",
      "conv2d_9 (Conv2D)            (None, 14, 14, 64)        65600     \n",
      "_________________________________________________________________\n",
      "max_pooling2d_5 (MaxPooling2 (None, 7, 7, 64)          0         \n",
      "_________________________________________________________________\n",
      "dropout_2 (Dropout)          (None, 7, 7, 64)          0         \n",
      "_________________________________________________________________\n",
      "flatten_1 (Flatten)          (None, 3136)              0         \n",
      "_________________________________________________________________\n",
      "dense_1 (Dense)              (None, 64)                200768    \n",
      "_________________________________________________________________\n",
      "dropout_3 (Dropout)          (None, 64)                0         \n",
      "_________________________________________________________________\n",
      "dense_2 (Dense)              (None, 10)                650       \n",
      "=================================================================\n",
      "Total params: 268,106\n",
      "Trainable params: 268,106\n",
      "Non-trainable params: 0\n",
      "_________________________________________________________________\n",
      "None\n"
     ]
    }
   ],
   "source": [
    "cnn = Sequential()\n",
    "cnn.add(Conv2D(filters =64 ,kernel_size=(4, 4), \n",
    "                 activation='relu', strides=(1, 1), \n",
    "                 padding='same',\n",
    "                 input_shape=(28,28,1)))\n",
    "cnn.add(MaxPooling2D(pool_size=(2,2)))\n",
    "cnn.add(Dropout(0.25))\n",
    "cnn.add(Conv2D(filters = 64,kernel_size=(4, 4), \n",
    "                 activation='relu', strides=(1, 1), \n",
    "                 padding='same'))\n",
    "cnn.add(MaxPooling2D(pool_size=(2,2)))\n",
    "cnn.add(Dropout(0.25))\n",
    "cnn.add(Flatten())\n",
    "cnn.add(Dense(64, activation='relu'))\n",
    "cnn.add(Dropout(0.5))\n",
    "cnn.add(Dense(10, activation='softmax'))\n",
    "print(cnn.summary())"
   ]
  },
  {
   "cell_type": "code",
   "execution_count": 9,
   "metadata": {},
   "outputs": [
    {
     "name": "stdout",
     "output_type": "stream",
     "text": [
      "Train on 42000 samples, validate on 18000 samples\n",
      "Epoch 1/4\n",
      "42000/42000 [==============================] - 194s 5ms/step - loss: 2.9888 - acc: 0.5749 - val_loss: 0.4607 - val_acc: 0.8366\n",
      "Epoch 2/4\n",
      "42000/42000 [==============================] - 207s 5ms/step - loss: 0.5982 - acc: 0.7860 - val_loss: 0.3830 - val_acc: 0.8603\n",
      "Epoch 3/4\n",
      "42000/42000 [==============================] - 222s 5ms/step - loss: 0.4951 - acc: 0.8227 - val_loss: 0.3406 - val_acc: 0.8708\n",
      "Epoch 4/4\n",
      "42000/42000 [==============================] - 230s 5ms/step - loss: 0.4462 - acc: 0.8389 - val_loss: 0.3153 - val_acc: 0.8834\n"
     ]
    },
    {
     "data": {
      "text/plain": [
       "0.8787"
      ]
     },
     "execution_count": 9,
     "metadata": {},
     "output_type": "execute_result"
    }
   ],
   "source": [
    "Y_train = np_utils.to_categorical(y_train, 10)\n",
    "Y_test = np_utils.to_categorical(y_test, 10)\n",
    "cnn.compile(loss = 'categorical_crossentropy',\n",
    "            optimizer='adam',\n",
    "            metrics = ['accuracy'])\n",
    "cnn.fit(X_train, Y_train,\n",
    "          epochs=4,\n",
    "          batch_size=128,\n",
    "        validation_split = 0.3)\n",
    "y_pred = cnn.predict_classes(X_test)\n",
    "# accuracy on test set\n",
    "#(y_pred == y_test).sum()/len(y_test)\n",
    "score = cnn.evaluate(X_test, Y_test, verbose=1)\n",
    "print(score[1])"
   ]
  },
  {
   "cell_type": "markdown",
   "metadata": {},
   "source": [
    "The network contains two convolution layers each with 64 3 by 3 filters, striding 1 by 1. Each convolution layer is followed by a max pooling layer with size 2 by 2. Drop out is applied on the last max pooling layer. After, the network contains two dense layers with 64 and 10 neurons respectively. Drop out is applied on both layer. Relu activation is applied on all but last layer, where softmax is used.\n",
    "<br>The model is trained for 4 epochs with 30% validation. Model accuracy is 88.34% for train set and 87.87% for test set."
   ]
  },
  {
   "cell_type": "markdown",
   "metadata": {},
   "source": [
    "###2.2 Transfer Learning"
   ]
  },
  {
   "cell_type": "code",
   "execution_count": 10,
   "metadata": {
    "collapsed": true
   },
   "outputs": [],
   "source": [
    "#transfer learning\n",
    "from keras.applications import ResNet50\n",
    "from scipy.misc import imresize\n",
    "from keras.preprocessing.image import img_to_array, array_to_img"
   ]
  },
  {
   "cell_type": "code",
   "execution_count": 11,
   "metadata": {},
   "outputs": [
    {
     "name": "stderr",
     "output_type": "stream",
     "text": [
      "C:\\Users\\Danielle\\Anaconda3\\lib\\site-packages\\keras_applications\\resnet50.py:265: UserWarning: The output shape of `ResNet50(include_top=False)` has been changed since Keras 2.2.0.\n",
      "  warnings.warn('The output shape of `ResNet50(include_top=False)` '\n"
     ]
    },
    {
     "name": "stdout",
     "output_type": "stream",
     "text": [
      "Downloading data from https://github.com/fchollet/deep-learning-models/releases/download/v0.2/resnet50_weights_tf_dim_ordering_tf_kernels_notop.h5\n",
      "94658560/94653016 [==============================] - 187s 2us/step\n",
      "_________________________________________________________________\n",
      "Layer (type)                 Output Shape              Param #   \n",
      "=================================================================\n",
      "resnet50 (Model)             (None, 2, 2, 2048)        23587712  \n",
      "_________________________________________________________________\n",
      "flatten_2 (Flatten)          (None, 8192)              0         \n",
      "_________________________________________________________________\n",
      "dense_3 (Dense)              (None, 256)               2097408   \n",
      "_________________________________________________________________\n",
      "dropout_4 (Dropout)          (None, 256)               0         \n",
      "_________________________________________________________________\n",
      "dense_4 (Dense)              (None, 10)                2570      \n",
      "=================================================================\n",
      "Total params: 25,687,690\n",
      "Trainable params: 2,099,978\n",
      "Non-trainable params: 23,587,712\n",
      "_________________________________________________________________\n"
     ]
    }
   ],
   "source": [
    "resX_train = X_train\n",
    "resX_test = X_test\n",
    "resX_train = np.c_[X_train,X_train,X_train]\n",
    "resX_test = np.c_[X_test, X_test,X_test]\n",
    "resX_train = np.asarray([img_to_array(array_to_img(im, scale  = False).resize((50,50))) for im in resX_train])\n",
    "resX_test = np.asarray([img_to_array(array_to_img(im, scale  = False).resize((50,50))) for im in resX_test])\n",
    "conv_base = ResNet50(weights=\"imagenet\",include_top=False,input_shape=(50,50,3))\n",
    "t_model = Sequential()\n",
    "t_model.add(conv_base)\n",
    "t_model.add(Flatten())\n",
    "t_model.add(Dense(256, activation=\"relu\"))\n",
    "t_model.add(Dropout(0.5))\n",
    "t_model.add(Dense(10, activation=\"softmax\"))   \n",
    "conv_base.trainable = False\n",
    "t_model.summary()"
   ]
  },
  {
   "cell_type": "code",
   "execution_count": 12,
   "metadata": {},
   "outputs": [
    {
     "name": "stdout",
     "output_type": "stream",
     "text": [
      "Train on 42000 samples, validate on 18000 samples\n",
      "Epoch 1/4\n",
      "42000/42000 [==============================] - 3225s 77ms/step - loss: 0.7002 - acc: 0.7719 - val_loss: 2.1593 - val_acc: 0.4207\n",
      "Epoch 2/4\n",
      "42000/42000 [==============================] - 3559s 85ms/step - loss: 0.4637 - acc: 0.8360 - val_loss: 1.9645 - val_acc: 0.4774\n",
      "Epoch 3/4\n",
      "42000/42000 [==============================] - 2791s 66ms/step - loss: 0.3991 - acc: 0.8571 - val_loss: 2.1574 - val_acc: 0.4429\n",
      "Epoch 4/4\n",
      "42000/42000 [==============================] - 2831s 67ms/step - loss: 0.3518 - acc: 0.8715 - val_loss: 2.6965 - val_acc: 0.3957\n"
     ]
    },
    {
     "data": {
      "text/plain": [
       "<keras.callbacks.History at 0x226173367b8>"
      ]
     },
     "execution_count": 12,
     "metadata": {},
     "output_type": "execute_result"
    }
   ],
   "source": [
    "t_model.compile(loss=\"categorical_crossentropy\", optimizer='adam',metrics=[\"acc\"])\n",
    "t_model.fit(resX_train, Y_train,\n",
    "          epochs=4,\n",
    "          batch_size=128,\n",
    "        validation_split = 0.3)\n"
   ]
  },
  {
   "cell_type": "code",
   "execution_count": 15,
   "metadata": {},
   "outputs": [
    {
     "name": "stdout",
     "output_type": "stream",
     "text": [
      "10000/10000 [==============================] - 388s 39ms/step\n",
      "0.3915\n"
     ]
    }
   ],
   "source": [
    "score = t_model.evaluate(resX_test, Y_test, verbose=1)\n",
    "print(score[1])"
   ]
  },
  {
   "cell_type": "code",
   "execution_count": 19,
   "metadata": {},
   "outputs": [
    {
     "data": {
      "image/png": "[encoded data removed]",
      "text/plain": [
       "<matplotlib.figure.Figure at 0x2262043a320>"
      ]
     },
     "metadata": {},
     "output_type": "display_data"
    },
    {
     "data": {
      "image/png": "[encoded data removed]",
      "text/plain": [
       "<matplotlib.figure.Figure at 0x22617336208>"
      ]
     },
     "metadata": {},
     "output_type": "display_data"
    }
   ],
   "source": [
    "#sum(t_model.predict_classes(resX_test) == y_test)/len(y_test)\n",
    "plt.imshow(resX_test[0])\n",
    "plt.title('resized pic')\n",
    "plt.show()\n",
    "plt.imshow(X_test[0,:].reshape(28,28))\n",
    "plt.title('original pic')\n",
    "plt.show()"
   ]
  },
  {
   "cell_type": "markdown",
   "metadata": {},
   "source": [
    "We used pretrained resnet50 network with two dense layers at last. Since resnet requires a minimum image size of 32* 32 with 3 channels, we resized the image and stacked the orginal on itself to create such shape.\n",
    "<br>With 4 epochs, the model acchieves 87.15% on training set and around 40% accuracy on validation and test sets. With more epochs, the result can improve."
   ]
  },
  {
   "cell_type": "markdown",
   "metadata": {},
   "source": [
    "##Problem 3 Text Classification\n",
    "###3,1 RNN "
   ]
  },
  {
   "cell_type": "code",
   "execution_count": 21,
   "metadata": {
    "collapsed": true
   },
   "outputs": [],
   "source": [
    "from sklearn.model_selection import train_test_split\n",
    "import matplotlib.pyplot as plt\n",
    "\n",
    "# create tokenization and character embedding# create \n",
    "from keras.preprocessing.text import Tokenizer\n",
    "from keras.preprocessing.sequence import pad_sequences\n",
    "from keras.layers import Embedding, Bidirectional, LSTM, GRU, SpatialDropout1D, Dropout, Dense, Conv1D, MaxPool1D, Flatten\n",
    "from keras.models import Sequential\n",
    "import pandas as pd "
   ]
  },
  {
   "cell_type": "code",
   "execution_count": 23,
   "metadata": {},
   "outputs": [
    {
     "name": "stdout",
     "output_type": "stream",
     "text": [
      "number of instances:  67311\n"
     ]
    },
    {
     "data": {
      "image/png": "[encoded data removed]",
      "text/plain": [
       "<matplotlib.figure.Figure at 0x226091245c0>"
      ]
     },
     "metadata": {},
     "output_type": "display_data"
    }
   ],
   "source": [
    "# load data\n",
    "def load_data():\n",
    "    ben = []\n",
    "    with open('benign-urls.txt','r') as f:\n",
    "        for line in f:\n",
    "            if not line.startswith('#'):\n",
    "                ben.append(line.strip())\n",
    "    mal =[]\n",
    "    with open('malicious-urls.txt','r') as f:\n",
    "        for line in f:\n",
    "            mal.append(line.strip())\n",
    "    \n",
    "    # combine data create labels and shuffle data\n",
    "    labels = [0]*len(ben)+[1]*len(mal)\n",
    "    data = np.array([[text, l] for text, l in zip(ben+mal, labels)])\n",
    "    np.random.shuffle(data)\n",
    "    return list(data[:,0]), data[:,1]\n",
    "X,y = load_data()\n",
    "y = y.astype(int)\n",
    "print('number of instances: ',len(X))\n",
    "lengths = list(map(len, X))\n",
    "plt.hist(lengths)\n",
    "plt.title('length distribution')\n",
    "plt.show()"
   ]
  },
  {
   "cell_type": "code",
   "execution_count": 24,
   "metadata": {
    "collapsed": true
   },
   "outputs": [],
   "source": [
    "train_X, test_X,train_y, test_y = train_test_split(X,y, test_size =0.3,random_state = 100 )\n",
    "max_len = 55\n",
    "char_dimension = 30\n",
    "tok  = Tokenizer(char_level=True)\n",
    "tok.fit_on_texts(train_X)\n",
    "train_X_tok = tok.texts_to_sequences(train_X)\n",
    "test_X_tok = tok.texts_to_sequences(test_X)\n",
    "train_X_tok =pad_sequences(train_X_tok, maxlen =max_len)\n",
    "test_X_tok = pad_sequences(test_X_tok, maxlen = max_len)\n",
    "num_char =len(tok.word_index)"
   ]
  },
  {
   "cell_type": "code",
   "execution_count": 25,
   "metadata": {},
   "outputs": [
    {
     "name": "stdout",
     "output_type": "stream",
     "text": [
      "_________________________________________________________________\n",
      "Layer (type)                 Output Shape              Param #   \n",
      "=================================================================\n",
      "embedding_1 (Embedding)      (None, 55, 30)            1260      \n",
      "_________________________________________________________________\n",
      "bidirectional_1 (Bidirection (None, 55, 128)           48640     \n",
      "_________________________________________________________________\n",
      "flatten_3 (Flatten)          (None, 7040)              0         \n",
      "_________________________________________________________________\n",
      "dense_5 (Dense)              (None, 1)                 7041      \n",
      "=================================================================\n",
      "Total params: 56,941\n",
      "Trainable params: 56,941\n",
      "Non-trainable params: 0\n",
      "_________________________________________________________________\n"
     ]
    }
   ],
   "source": [
    "rnn = Sequential()\n",
    "rnn.add( Embedding(num_char+1,char_dimension,input_length=max_len))\n",
    "rnn.add(Bidirectional(LSTM(64,return_sequences=True, recurrent_dropout=0.1, dropout=0.1)))\n",
    "rnn.add(Flatten())\n",
    "rnn.add(Dense(1, activation='sigmoid'))\n",
    "rnn.summary()"
   ]
  },
  {
   "cell_type": "code",
   "execution_count": 29,
   "metadata": {
    "scrolled": true
   },
   "outputs": [
    {
     "name": "stdout",
     "output_type": "stream",
     "text": [
      "Train on 32981 samples, validate on 14136 samples\n",
      "Epoch 1/5\n",
      "32981/32981 [==============================] - 91s 3ms/step - loss: 0.0275 - acc: 0.9873 - val_loss: 0.0278 - val_acc: 0.9861\n",
      "Epoch 2/5\n",
      "32981/32981 [==============================] - 85s 3ms/step - loss: 0.0243 - acc: 0.9880 - val_loss: 0.0249 - val_acc: 0.9884\n",
      "Epoch 3/5\n",
      "32981/32981 [==============================] - 83s 3ms/step - loss: 0.0230 - acc: 0.9889 - val_loss: 0.0264 - val_acc: 0.9879\n",
      "Epoch 4/5\n",
      "32981/32981 [==============================] - 79s 2ms/step - loss: 0.0220 - acc: 0.9887 - val_loss: 0.0256 - val_acc: 0.9892\n",
      "Epoch 5/5\n",
      "32981/32981 [==============================] - 70s 2ms/step - loss: 0.0212 - acc: 0.9894 - val_loss: 0.0369 - val_acc: 0.9844\n"
     ]
    },
    {
     "data": {
      "text/plain": [
       "<keras.callbacks.History at 0x22734778f28>"
      ]
     },
     "execution_count": 29,
     "metadata": {},
     "output_type": "execute_result"
    }
   ],
   "source": [
    "rnn.compile(loss='binary_crossentropy',optimizer='adam', metrics=['accuracy'])\n",
    "rnn.fit(train_X_tok, train_y, epochs=5, batch_size=128, validation_split=0.3)"
   ]
  },
  {
   "cell_type": "markdown",
   "metadata": {},
   "source": [
    "###3.2 CNN"
   ]
  },
  {
   "cell_type": "code",
   "execution_count": 27,
   "metadata": {},
   "outputs": [
    {
     "name": "stdout",
     "output_type": "stream",
     "text": [
      "_________________________________________________________________\n",
      "Layer (type)                 Output Shape              Param #   \n",
      "=================================================================\n",
      "embedding_2 (Embedding)      (None, 55, 30)            1260      \n",
      "_________________________________________________________________\n",
      "conv1d_1 (Conv1D)            (None, 53, 128)           11648     \n",
      "_________________________________________________________________\n",
      "spatial_dropout1d_1 (Spatial (None, 53, 128)           0         \n",
      "_________________________________________________________________\n",
      "max_pooling1d_1 (MaxPooling1 (None, 26, 128)           0         \n",
      "_________________________________________________________________\n",
      "conv1d_2 (Conv1D)            (None, 24, 64)            24640     \n",
      "_________________________________________________________________\n",
      "spatial_dropout1d_2 (Spatial (None, 24, 64)            0         \n",
      "_________________________________________________________________\n",
      "max_pooling1d_2 (MaxPooling1 (None, 12, 64)            0         \n",
      "_________________________________________________________________\n",
      "flatten_4 (Flatten)          (None, 768)               0         \n",
      "_________________________________________________________________\n",
      "dense_6 (Dense)              (None, 1)                 769       \n",
      "=================================================================\n",
      "Total params: 38,317\n",
      "Trainable params: 38,317\n",
      "Non-trainable params: 0\n",
      "_________________________________________________________________\n"
     ]
    }
   ],
   "source": [
    "cnn = Sequential()\n",
    "cnn.add(Embedding(num_char+1,char_dimension,input_length=max_len))\n",
    "cnn.add(Conv1D(128,activation='relu', kernel_size=3,padding='valid'))\n",
    "cnn.add(SpatialDropout1D(0.1))\n",
    "cnn.add(MaxPool1D())\n",
    "cnn.add(Conv1D(64,activation='relu', kernel_size=3,padding='valid'))\n",
    "cnn.add(SpatialDropout1D(0.1))\n",
    "cnn.add(MaxPool1D())\n",
    "cnn.add(Flatten())\n",
    "cnn.add(Dense(1, activation='sigmoid'))\n",
    "cnn.summary()"
   ]
  },
  {
   "cell_type": "code",
   "execution_count": 30,
   "metadata": {},
   "outputs": [
    {
     "name": "stdout",
     "output_type": "stream",
     "text": [
      "Train on 32981 samples, validate on 14136 samples\n",
      "Epoch 1/5\n",
      "32981/32981 [==============================] - 25s 757us/step - loss: 0.0205 - acc: 0.9900 - val_loss: 0.0235 - val_acc: 0.9883\n",
      "Epoch 2/5\n",
      "32981/32981 [==============================] - 23s 702us/step - loss: 0.0190 - acc: 0.9909 - val_loss: 0.0210 - val_acc: 0.9900\n",
      "Epoch 3/5\n",
      "32981/32981 [==============================] - 22s 675us/step - loss: 0.0179 - acc: 0.9916 - val_loss: 0.0206 - val_acc: 0.9898\n",
      "Epoch 4/5\n",
      "32981/32981 [==============================] - 23s 705us/step - loss: 0.0168 - acc: 0.9922 - val_loss: 0.0214 - val_acc: 0.9905\n",
      "Epoch 5/5\n",
      "32981/32981 [==============================] - 23s 685us/step - loss: 0.0158 - acc: 0.9929 - val_loss: 0.0198 - val_acc: 0.9913\n"
     ]
    },
    {
     "data": {
      "text/plain": [
       "<keras.callbacks.History at 0x22734c5cac8>"
      ]
     },
     "execution_count": 30,
     "metadata": {},
     "output_type": "execute_result"
    }
   ],
   "source": [
    "cnn.compile(loss='binary_crossentropy',optimizer='adam', metrics=['accuracy'])\n",
    "cnn.fit(train_X_tok, train_y, epochs=5, batch_size=128, validation_split=0.3)\n"
   ]
  },
  {
   "cell_type": "markdown",
   "metadata": {},
   "source": [
    "###3.3 Be sure to directly compare your two methods with an ROC curve or similar validation method. Don’t forget to create a train-test split."
   ]
  },
  {
   "cell_type": "code",
   "execution_count": 31,
   "metadata": {},
   "outputs": [
    {
     "name": "stdout",
     "output_type": "stream",
     "text": [
      "RNN performance\n",
      "Precision:  0.5734375\n",
      "Recall:  0.9434447300771208\n",
      "F1:  0.7133138969873664\n",
      "ROC AUC:  0.99384616982157\n",
      "\n",
      "====================================\n",
      "\n",
      "CNN performance:\n",
      "Precision:  0.7481840193704601\n",
      "Recall:  0.794344473007712\n",
      "F1:  0.770573566084788\n",
      "ROC AUC:  0.9959345261544272\n"
     ]
    }
   ],
   "source": [
    "from sklearn.metrics import roc_auc_score, precision_score, recall_score, f1_score\n",
    "rnn_pred =rnn.predict_classes(test_X_tok)\n",
    "rnn_prob =rnn.predict_proba(test_X_tok)\n",
    "print('RNN performance')\n",
    "print('Precision: ',precision_score(test_y, rnn_pred))\n",
    "print('Recall: ',recall_score(test_y, rnn_pred))\n",
    "print('F1: ',f1_score(test_y, rnn_pred))\n",
    "print('ROC AUC: ',roc_auc_score(test_y, rnn_prob))\n",
    "print('\\n====================================\\n')\n",
    "cnn_pred =cnn.predict_classes(test_X_tok)\n",
    "cnn_prob =cnn.predict_proba(test_X_tok)\n",
    "print('CNN performance:')\n",
    "print('Precision: ',precision_score(test_y, cnn_pred))\n",
    "print('Recall: ',recall_score(test_y,cnn_pred))\n",
    "print('F1: ',f1_score(test_y, cnn_pred))\n",
    "print('ROC AUC: ',roc_auc_score(test_y, cnn_prob))\n"
   ]
  },
  {
   "cell_type": "markdown",
   "metadata": {},
   "source": [
    "We compared an rnn model with 64 bidirectional lstm units and a cnn model with two convoluiton layers with 128 and 64 filters respectively. Both models are layered on an character embedding with 40 characters and 55 dimensions and are trained for 5 epochs. The resulting models has similar trainable parameters. CNN model has much better precision than RNN model, yet RNN model has wins recall. The ROC AUC are high as 0.99 for both models due to imbalanced class size. In terms of training time, the CNN model trains almost 4 times faster than RNN model."
   ]
  },
  {
   "cell_type": "code",
   "execution_count": null,
   "metadata": {
    "collapsed": true
   },
   "outputs": [],
   "source": []
  }
 ],
 "metadata": {
  "kernelspec": {
   "display_name": "Python 3",
   "language": "python",
   "name": "python3"
  },
  "language_info": {
   "codemirror_mode": {
    "name": "ipython",
    "version": 3
   },
   "file_extension": ".py",
   "mimetype": "text/x-python",
   "name": "python",
   "nbconvert_exporter": "python",
   "pygments_lexer": "ipython3",
   "version": "3.6.1"
  }
 },
 "nbformat": 4,
 "nbformat_minor": 2
}
