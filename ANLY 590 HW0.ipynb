{
 "cells": [
  {
   "cell_type": "markdown",
   "metadata": {},
   "source": [
    "1 Regularization.\n",
    "\n",
    "Using the accompanying Hitters dataset, we will explore regression models to predict a player's Salary from other variables. You can use any programming languages or frameworks that you wish.\n",
    "\n",
    "1.1 Use LASSO regression to predict Salary from the other numeric predictors (you should omit the categorical predictors). \n",
    "<br>1.1.1. Create a visualization of the coefficient trajectories\n",
    "<br>1.1.2. Comment on which are the final three predictors that remain in the model\n",
    "<br>1.1.3. Use cross-validation to find the optimal value of the regularization penalty\n",
    "<br>1.1.4. How many predictors are left in that model?\n",
    "\n",
    "1.2 Repeat with Ridge Regression. \n",
    "<br>1.2.1 Visualize the coefficient trajectories\n",
    "<br>1.2.2 Use cross-validation to find the optimal value of the regularization penalty\n",
    "\n",
    "2 Short Answer. \n",
    "<br>2.1 Explain in your own words the bias-variance tradeoff\n",
    "<br>2.2 What role does regularization play in this tradeoff? \n",
    "<br>2.3 Make reference to your findings in number (1) to describe models of high/low bias and variance"
   ]
  },
  {
   "cell_type": "code",
   "execution_count": 2,
   "metadata": {},
   "outputs": [
    {
     "name": "stderr",
     "output_type": "stream",
     "text": [
      "C:\\Users\\Danielle\\Anaconda3\\lib\\site-packages\\sklearn\\cross_validation.py:44: DeprecationWarning: This module was deprecated in version 0.18 in favor of the model_selection module into which all the refactored classes and functions are moved. Also note that the interface of the new CV iterators are different from that of this module. This module will be removed in 0.20.\n",
      "  \"This module will be removed in 0.20.\", DeprecationWarning)\n"
     ]
    }
   ],
   "source": [
    "import pandas as pd\n",
    "import numpy as np\n",
    "from sklearn import linear_model\n",
    "from sklearn import cross_validation\n",
    "from sklearn.preprocessing import StandardScaler\n",
    "from sklearn.model_selection import train_test_split\n",
    "from sklearn.linear_model import Lasso, LassoCV, Ridge, RidgeCV\n",
    "import matplotlib.pyplot as plt\n",
    "%matplotlib inline\n"
   ]
  },
  {
   "cell_type": "markdown",
   "metadata": {},
   "source": [
    "###Problem 1\n",
    "###part 1"
   ]
  },
  {
   "cell_type": "code",
   "execution_count": 3,
   "metadata": {
    "collapsed": true
   },
   "outputs": [],
   "source": [
    "##Prolem 1\n",
    "csvFile=\"C:/Users/Danielle/Documents/Fall 2018/deep learning/Hitters.csv\" \n",
    "hitters=pd.read_csv(csvFile,sep=',',encoding='latin1')\n",
    "#hitters.describe()\n",
    "hitters = hitters.dropna()\n",
    "LAS=hitters._get_numeric_data()\n",
    "X=LAS.drop(['Salary'],axis=1)\n",
    "#X_stand = StandardScaler().fit_transform(X)\n",
    "Y=LAS['Salary']\n"
   ]
  },
  {
   "cell_type": "code",
   "execution_count": 15,
   "metadata": {},
   "outputs": [
    {
     "data": {
      "text/plain": [
       "(0.0044668359215096348,\n",
       " 223872.11385683378,\n",
       " -10.51547141746585,\n",
       " 8.611603105647454)"
      ]
     },
     "execution_count": 15,
     "metadata": {},
     "output_type": "execute_result"
    },
    {
     "data": {
      "image/png": "[encoded data removed]",
      "text/plain": [
       "<matplotlib.figure.Figure at 0x19a4c2a70b8>"
      ]
     },
     "metadata": {},
     "output_type": "display_data"
    }
   ],
   "source": [
    "###part 1.1\n",
    "alphas  = 10**np.linspace(5,-2,100)\n",
    "\n",
    "lasso = Lasso(max_iter=10000,normalize = True)\n",
    "l_coefs = []\n",
    "\n",
    "for a in alphas:\n",
    "    lasso.set_params(alpha=a)\n",
    "    lasso.fit(X, Y)\n",
    "    l_coefs.append(lasso.coef_)\n",
    "\n",
    "\n",
    "ax1 = plt.gca()\n",
    "ax1.plot(alphas, l_coefs)\n",
    "ax1.set_xscale('log')\n",
    "plt.xlabel('alpha')\n",
    "plt.ylabel('weights')\n",
    "plt.title('Lasso coefficients trajectories')\n",
    "plt.axis('tight')"
   ]
  },
  {
   "cell_type": "code",
   "execution_count": 16,
   "metadata": {},
   "outputs": [
    {
     "name": "stdout",
     "output_type": "stream",
     "text": [
      "Index(['Hits', 'CRuns', 'CRBI'], dtype='object')\n"
     ]
    }
   ],
   "source": [
    "###part 1.2\n",
    "for c in l_coefs:\n",
    "    if sum(c!= 0) ==3:\n",
    "        print(X.columns[c!=0])"
   ]
  },
  {
   "cell_type": "code",
   "execution_count": 18,
   "metadata": {
    "scrolled": true
   },
   "outputs": [
    {
     "name": "stdout",
     "output_type": "stream",
     "text": [
      "The best optimal value for Lasso is 0.316671247347\n"
     ]
    },
    {
     "data": {
      "text/plain": [
       "AtBat     -1.069911\n",
       "Hits       4.782382\n",
       "HmRun     -0.000000\n",
       "Runs       0.000000\n",
       "RBI        0.000000\n",
       "Walks      3.644984\n",
       "Years     -5.533848\n",
       "CAtBat    -0.000000\n",
       "CHits      0.000000\n",
       "CHmRun     0.346406\n",
       "CRuns      0.477718\n",
       "CRBI       0.337092\n",
       "CWalks    -0.236074\n",
       "PutOuts    0.263238\n",
       "Assists    0.059314\n",
       "Errors    -0.689365\n",
       "dtype: float64"
      ]
     },
     "execution_count": 18,
     "metadata": {},
     "output_type": "execute_result"
    }
   ],
   "source": [
    "###part 1.3\n",
    "test_size = 0.30\n",
    "seed = 404\n",
    "X_train, X_validate, Y_train, Y_validate = train_test_split(X, Y, test_size=test_size, random_state=seed)\n",
    "lassocv = LassoCV(cv=10, max_iter=100000,normalize = True)\n",
    "lassocv.fit(X_train, Y_train)\n",
    "\n",
    "print(\"The best optimal value for Lasso is\", lassocv.alpha_)\n",
    "\n",
    "lasso.set_params(alpha=lassocv.alpha_)\n",
    "lasso.fit(X, Y)\n",
    "\n",
    "pd.Series(lasso.coef_, index=X.columns)"
   ]
  },
  {
   "cell_type": "markdown",
   "metadata": {},
   "source": [
    "In part 1.4, there are 11 predictors in the model. \n"
   ]
  },
  {
   "cell_type": "markdown",
   "metadata": {},
   "source": [
    "###part 1.2"
   ]
  },
  {
   "cell_type": "code",
   "execution_count": 20,
   "metadata": {},
   "outputs": [
    {
     "data": {
      "text/plain": [
       "(0.0044668359215096348,\n",
       " 223872.11385683378,\n",
       " -11.304849552337323,\n",
       " 6.5249429872028557)"
      ]
     },
     "execution_count": 20,
     "metadata": {},
     "output_type": "execute_result"
    },
    {
     "data": {
      "image/png": "[encoded data removed]",
      "text/plain": [
       "<matplotlib.figure.Figure at 0x19a4b773048>"
      ]
     },
     "metadata": {},
     "output_type": "display_data"
    }
   ],
   "source": [
    "###part 1.2.1\n",
    "ridge = Ridge(normalize = True)\n",
    "r_coefs = []\n",
    "\n",
    "for a in alphas:\n",
    "    ridge.set_params(alpha=a)\n",
    "    ridge.fit(X, Y)\n",
    "    r_coefs.append(ridge.coef_)\n",
    "    \n",
    "ax2 = plt.gca()\n",
    "ax2.plot(alphas, r_coefs)\n",
    "ax2.set_xscale('log')\n",
    "plt.xlabel('alpha')\n",
    "plt.ylabel('weights')\n",
    "plt.title('Ridge coefficients trajectories')\n",
    "plt.axis('tight')"
   ]
  },
  {
   "cell_type": "code",
   "execution_count": 22,
   "metadata": {
    "scrolled": true
   },
   "outputs": [
    {
     "name": "stdout",
     "output_type": "stream",
     "text": [
      "The best optimal value for Ridge is 10.0\n"
     ]
    },
    {
     "data": {
      "text/plain": [
       "AtBat      0.069921\n",
       "Hits       0.274156\n",
       "HmRun      0.951045\n",
       "Runs       0.449675\n",
       "RBI        0.457258\n",
       "Walks      0.572804\n",
       "Years      1.998412\n",
       "CAtBat     0.005877\n",
       "CHits      0.022242\n",
       "CHmRun     0.166005\n",
       "CRuns      0.044649\n",
       "CRBI       0.046078\n",
       "CWalks     0.046315\n",
       "PutOuts    0.035902\n",
       "Assists    0.005472\n",
       "Errors    -0.070350\n",
       "dtype: float64"
      ]
     },
     "execution_count": 22,
     "metadata": {},
     "output_type": "execute_result"
    }
   ],
   "source": [
    "###part 1.2.2\n",
    "\n",
    "ridgecv=  RidgeCV(cv=10,normalize = True)\n",
    "ridgecv.fit(X_train,  Y_train)\n",
    "print(\"The best optimal value for Ridge is\", ridgecv.alpha_)\n",
    "\n",
    "ridge.set_params(alpha=ridgecv.alpha_)\n",
    "ridge.fit(X, Y)\n",
    "\n",
    "pd.Series(ridge.coef_, index=X.columns)"
   ]
  },
  {
   "cell_type": "markdown",
   "metadata": {},
   "source": [
    "###Problem 2\n",
    "###part 1\n",
    "<br>In the reality, we hardly to get a model with both low bias and low variance, since we try to use sample data to estimate the real data.If we try to keep the accuracy of the training sample data, the bias will decrease, but the model is more flexible with higher variance. It may cause overfitting and the model may have poor performace with real data. On the other hand, If we try to create a more stable model, the variance will decrease with bias increase. It maycause underfitting. So we need to have a balance with bias and variance when we build a model, and choose which is more inportant in a certain situation.\n",
    "<br>\n",
    "###part 2\n",
    "<br>Regularization can come handy when our model is overfitting. regularization will add a norm to limit the range of coefficient estimates that we can select, which increase the stability of model with bias increase, and reduce the variance.\n",
    "<br>\n",
    "###part 3\n",
    "<br>\n",
    "<br>\n",
    "In the regularization model, larger alpha will result smaller coefficients which means a higher bias. When alpha equals to 0, the lasso and ridge regression will be cose to the least squares which has low bias, and when alpha is large enough, it gives the null model which all coefficient estimates equal to around zero which has high bias."
   ]
  }
 ],
 "metadata": {
  "kernelspec": {
   "display_name": "Python 3",
   "language": "python",
   "name": "python3"
  },
  "language_info": {
   "codemirror_mode": {
    "name": "ipython",
    "version": 3
   },
   "file_extension": ".py",
   "mimetype": "text/x-python",
   "name": "python",
   "nbconvert_exporter": "python",
   "pygments_lexer": "ipython3",
   "version": "3.6.1"
  }
 },
 "nbformat": 4,
 "nbformat_minor": 2
}
